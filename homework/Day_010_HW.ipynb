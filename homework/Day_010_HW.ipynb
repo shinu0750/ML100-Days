{
 "cells": [
  {
   "cell_type": "code",
   "execution_count": 1,
   "metadata": {},
   "outputs": [],
   "source": [
    "# Import 需要的套件\n",
    "import os\n",
    "import numpy as np\n",
    "import pandas as pd\n",
    "\n",
    "import matplotlib.pyplot as plt\n",
    "%matplotlib inline"
   ]
  },
  {
   "cell_type": "code",
   "execution_count": 2,
   "metadata": {},
   "outputs": [],
   "source": [
    "# 設定 data_path\n",
    "dir_data = './data/'\n",
    "f_app_train = os.path.join(dir_data, 'application_train.csv')\n",
    "f_app_test = os.path.join(dir_data, 'application_test.csv')\n",
    "\n",
    "app_train = pd.read_csv(f_app_train)\n",
    "app_test = pd.read_csv(f_app_test)\n",
    "\n",
    "from sklearn.preprocessing import LabelEncoder\n",
    "\n",
    "# Create a label encoder object\n",
    "le = LabelEncoder()\n",
    "le_count = 0\n",
    "\n",
    "# Iterate through the columns\n",
    "for col in app_train:\n",
    "    if app_train[col].dtype == 'object':\n",
    "        # If 2 or fewer unique categories\n",
    "        if len(list(app_train[col].unique())) <= 2:\n",
    "            # Train on the training data\n",
    "            le.fit(app_train[col])\n",
    "            # Transform both training and testing data\n",
    "            app_train[col] = le.transform(app_train[col])\n",
    "            app_test[col] = le.transform(app_test[col])\n",
    "            \n",
    "            # Keep track of how many columns were label encoded\n",
    "            le_count += 1\n",
    "            \n",
    "app_train = pd.get_dummies(app_train)\n",
    "app_test = pd.get_dummies(app_test)\n",
    "\n",
    "# Create an anomalous flag column\n",
    "app_train['DAYS_EMPLOYED_ANOM'] = app_train[\"DAYS_EMPLOYED\"] == 365243\n",
    "app_train['DAYS_EMPLOYED'].replace({365243: np.nan}, inplace = True)\n",
    "# also apply to testing dataset\n",
    "app_test['DAYS_EMPLOYED_ANOM'] = app_test[\"DAYS_EMPLOYED\"] == 365243\n",
    "app_test[\"DAYS_EMPLOYED\"].replace({365243: np.nan}, inplace = True)\n",
    "\n",
    "# absolute the value of DAYS_BIRTH\n",
    "app_train['DAYS_BIRTH'] = abs(app_train['DAYS_BIRTH'])\n",
    "app_test['DAYS_BIRTH'] = abs(app_test['DAYS_BIRTH'])"
   ]
  },
  {
   "cell_type": "markdown",
   "metadata": {},
   "source": [
    "### 相關係數\n",
    "一樣，pandas 很貼心地讓我們可以非常容易計算相關係數"
   ]
  },
  {
   "cell_type": "markdown",
   "metadata": {},
   "source": [
    "#會有memory error發生"
   ]
  },
  {
   "cell_type": "code",
   "execution_count": 3,
   "metadata": {},
   "outputs": [],
   "source": [
    "Dict = {}\n",
    "A = app_train.iloc[:,1:2]\n",
    "for i in list(range(2,232,10)):\n",
    "    B = app_train.iloc[:,i:i+9]\n",
    "    C = pd.concat([A, B], axis = 1)\n",
    "    D = C.corr()['TARGET']\n",
    "    \n",
    "    for j in range(len(D)):\n",
    "        Dict[C.corr()['TARGET'].index[j]] = C.corr()['TARGET'][j]\n",
    "        \n",
    "E = pd.concat([app_train.iloc[:,0:2], app_train.iloc[:,241:244]], axis = 1)\n",
    "E = E.corr()['TARGET']\n",
    "for j in range(len(D)):\n",
    "    Dict[C.corr()['TARGET'].index[j]] = C.corr()['TARGET'][j]\n",
    "    \n",
    "app_train_2 = pd.DataFrame.from_dict(Dict, orient='index')\n",
    "app_train_2 [\"abs\"] = app_train_2[0].abs()"
   ]
  },
  {
   "cell_type": "markdown",
   "metadata": {},
   "source": [
    "## 練習時間\n",
    "列出目標 (TARGET) 與所有欄位之間相關係數，數值最大以及最小各 15 個\n",
    "\n",
    "通過相關係數的結果觀察有興趣的欄位與 TARGET 或其他欄位的相關係數，並嘗試找出有趣的訊息\n",
    "- 最好的方式當然是畫圖，舉例來說，我們知道  EXT_SOURCE_3 這個欄位和 TARGET 之間的相關係數是 -0.178919 (在已經這個資料集已經是最負的了！)，那我們可以 EXT_SOURCE_3  為 x 軸， TARGET 為 y 軸，把資料給畫出來"
   ]
  },
  {
   "cell_type": "code",
   "execution_count": 70,
   "metadata": {},
   "outputs": [
    {
     "name": "stdout",
     "output_type": "stream",
     "text": [
      "min15\n",
      "ORGANIZATION_TYPE_Industry: type 7: -9.405271150827057e-05\n",
      "ORGANIZATION_TYPE_Advertising: 0.00011748220212754732\n",
      "ORGANIZATION_TYPE_Legal Services: -0.00023598906873819047\n",
      "NAME_HOUSING_TYPE_Co-op apartment: -0.00031236692480246167\n",
      "FLAG_DOCUMENT_5: -0.0003157774166440568\n",
      "ORGANIZATION_TYPE_Business Entity Type 1: 0.00033865065123206065\n",
      "FLAG_CONT_MOBILE: 0.0003701268023512289\n",
      "OCCUPATION_TYPE_Realty agents: -0.00039357160127507357\n",
      "WEEKDAY_APPR_PROCESS_START_THURSDAY: 0.0004458867736086756\n",
      "NAME_TYPE_SUITE_Group of people: 0.00045156763306120236\n",
      "ORGANIZATION_TYPE_Housing: -0.00046423957385155853\n",
      "FLAG_MOBIL: 0.0005343955790302037\n",
      "ORGANIZATION_TYPE_Industry: type 6: -0.00065165269207535\n",
      "ORGANIZATION_TYPE_Telecom: -0.0007118068865165538\n",
      "NAME_FAMILY_STATUS_Unknown: -0.0007557507043526767\n",
      "max15\n",
      "ORGANIZATION_TYPE_XNA: -0.04598707841544573\n",
      "NAME_INCOME_TYPE_Pensioner: -0.04620942278701308\n",
      "REG_CITY_NOT_WORK_CITY: 0.050994464367959576\n",
      "DAYS_ID_PUBLISH: 0.05145717260719229\n",
      "CODE_GENDER_F: -0.05470405317879923\n",
      "CODE_GENDER_M: 0.05471268197162485\n",
      "DAYS_LAST_PHONE_CHANGE: 0.0552184835135491\n",
      "NAME_EDUCATION_TYPE_Higher education: -0.05659264414103528\n",
      "NAME_INCOME_TYPE_Working: 0.05748118481848564\n",
      "REGION_RATING_CLIENT: 0.058899014945840766\n",
      "REGION_RATING_CLIENT_W_CITY: 0.060892667564898695\n",
      "DAYS_EMPLOYED: 0.07495845742555217\n",
      "EXT_SOURCE_1: -0.15531712606409276\n",
      "EXT_SOURCE_2: -0.1604716716054463\n",
      "EXT_SOURCE_3: -0.17891869762805598\n"
     ]
    }
   ],
   "source": [
    "app_train_2.sort_values(by=['abs'])\n",
    "min15 = app_train_2.sort_values(by=['abs']).iloc[0:15,:]\n",
    "min15value = app_train_2.sort_values(by=['abs']).iloc[0:15,0]\n",
    "max15 = app_train_2.sort_values(by=['abs']).iloc[-16:-1,:]\n",
    "max15value = app_train_2.sort_values(by=['abs']).iloc[-16:-1,0]\n",
    "\n",
    "print (\"min15\")\n",
    "for i in range(len(min15)):\n",
    "    print(str(min15.index[i]) + \": \" + str(min15value[i]))\n",
    "    \n",
    "print (\"max15\")\n",
    "for i in range(len(max15)):\n",
    "    print(str(max15.index[i]) + \": \" + str(max15value[i]))\n"
   ]
  },
  {
   "cell_type": "code",
   "execution_count": 102,
   "metadata": {},
   "outputs": [
    {
     "data": {
      "text/plain": [
       "60965"
      ]
     },
     "execution_count": 102,
     "metadata": {},
     "output_type": "execute_result"
    }
   ],
   "source": [
    "len(app_train[app_train[\"EXT_SOURCE_3\"].isnull()].index)"
   ]
  },
  {
   "cell_type": "code",
   "execution_count": 162,
   "metadata": {},
   "outputs": [
    {
     "data": {
      "image/png": "[encoded data removed]",
      "text/plain": [
       "<Figure size 432x288 with 1 Axes>"
      ]
     },
     "metadata": {
      "needs_background": "light"
     },
     "output_type": "display_data"
    }
   ],
   "source": [
    "drop = app_train\n",
    "X = drop.loc[list(drop[\"EXT_SOURCE_3\"].dropna().index),\"EXT_SOURCE_3\"]\n",
    "Y = drop.loc[list(drop[\"EXT_SOURCE_3\"].dropna().index),\"TARGET\"]\n",
    "plt.scatter(X,Y)\n",
    "plt.show()"
   ]
  }
 ],
 "metadata": {
  "kernelspec": {
   "display_name": "Python 3",
   "language": "python",
   "name": "python3"
  },
  "language_info": {
   "codemirror_mode": {
    "name": "ipython",
    "version": 3
   },
   "file_extension": ".py",
   "mimetype": "text/x-python",
   "name": "python",
   "nbconvert_exporter": "python",
   "pygments_lexer": "ipython3",
   "version": "3.7.1"
  }
 },
 "nbformat": 4,
 "nbformat_minor": 2
}
