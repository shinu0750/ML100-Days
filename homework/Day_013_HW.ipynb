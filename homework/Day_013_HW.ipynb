{
 "cells": [
  {
   "cell_type": "markdown",
   "metadata": {},
   "source": [
    "## 練習時間\n",
    "參考 Day 12 範例程式，離散化你覺得有興趣的欄位，並嘗試找出有趣的訊息"
   ]
  },
  {
   "cell_type": "code",
   "execution_count": 37,
   "metadata": {},
   "outputs": [],
   "source": [
    "# Import 需要的套件\n",
    "import os\n",
    "import numpy as np\n",
    "import pandas as pd\n",
    "import seaborn as sns # 另一個繪圖-樣式套件\n",
    "import matplotlib.pyplot as plt\n",
    "%matplotlib inline"
   ]
  },
  {
   "cell_type": "markdown",
   "metadata": {},
   "source": [
    "### 之前做過的處理"
   ]
  },
  {
   "cell_type": "code",
   "execution_count": 2,
   "metadata": {},
   "outputs": [],
   "source": [
    "# 設定 data_path\n",
    "dir_data = './data/'\n",
    "f_app_train = os.path.join(dir_data, 'application_train.csv')\n",
    "f_app_test = os.path.join(dir_data, 'application_test.csv')\n",
    "\n",
    "app_train = pd.read_csv(f_app_train)\n",
    "app_test = pd.read_csv(f_app_test)\n",
    "\n",
    "from sklearn.preprocessing import LabelEncoder\n",
    "\n",
    "# Create a label encoder object\n",
    "le = LabelEncoder()\n",
    "le_count = 0\n",
    "\n",
    "# Iterate through the columns\n",
    "for col in app_train:\n",
    "    if app_train[col].dtype == 'object':\n",
    "        # If 2 or fewer unique categories\n",
    "        if len(list(app_train[col].unique())) <= 2:\n",
    "            # Train on the training data\n",
    "            le.fit(app_train[col])\n",
    "            # Transform both training and testing data\n",
    "            app_train[col] = le.transform(app_train[col])\n",
    "            app_test[col] = le.transform(app_test[col])\n",
    "            \n",
    "            # Keep track of how many columns were label encoded\n",
    "            le_count += 1\n",
    "            \n",
    "app_train = pd.get_dummies(app_train)\n",
    "app_test = pd.get_dummies(app_test)\n",
    "\n",
    "# Create an anomalous flag column\n",
    "app_train['DAYS_EMPLOYED_ANOM'] = app_train[\"DAYS_EMPLOYED\"] == 365243\n",
    "app_train['DAYS_EMPLOYED'].replace({365243: np.nan}, inplace = True)\n",
    "# also apply to testing dataset\n",
    "app_test['DAYS_EMPLOYED_ANOM'] = app_test[\"DAYS_EMPLOYED\"] == 365243\n",
    "app_test[\"DAYS_EMPLOYED\"].replace({365243: np.nan}, inplace = True)\n",
    "\n",
    "# absolute the value of DAYS_BIRTH\n",
    "app_train['DAYS_BIRTH'] = abs(app_train['DAYS_BIRTH'])\n",
    "app_test['DAYS_BIRTH'] = abs(app_test['DAYS_BIRTH'])"
   ]
  },
  {
   "cell_type": "code",
   "execution_count": 28,
   "metadata": {},
   "outputs": [
    {
     "name": "stdout",
     "output_type": "stream",
     "text": [
      "(20.469, 25.378]    13679\n",
      "(25.378, 30.238]    33127\n",
      "(30.238, 35.099]    38430\n",
      "(35.099, 39.959]    41758\n",
      "(39.959, 44.819]    40350\n",
      "(44.819, 49.679]    34311\n",
      "(49.679, 54.54]     33544\n",
      "(54.54, 59.4]       32650\n",
      "(59.4, 64.26]       27685\n",
      "(64.26, 69.121]     11977\n",
      "Name: YEARS_BIRTH, dtype: int64\n",
      "(20, 25]    12159\n",
      "(25, 30]    32862\n",
      "(30, 35]    39440\n",
      "(35, 40]    42868\n",
      "(40, 45]    41406\n",
      "(45, 50]    35135\n",
      "(50, 55]    34942\n",
      "(55, 60]    33120\n",
      "(60, 65]    27476\n",
      "(65, 70]     8103\n",
      "Name: YEARS_BIRTH, dtype: int64\n",
      "(20.517, 28.175]    30752\n",
      "(28.175, 32.038]    30760\n",
      "(32.038, 36.0]      30745\n",
      "(36.0, 39.496]      30759\n",
      "(39.496, 43.151]    30745\n",
      "(43.151, 47.178]    30764\n",
      "(47.178, 51.74]     30733\n",
      "(51.74, 56.093]     30758\n",
      "(56.093, 60.77]     30757\n",
      "(60.77, 69.121]     30738\n",
      "Name: YEARS_BIRTH, dtype: int64\n"
     ]
    }
   ],
   "source": [
    "app_train[\"YEARS_BIRTH\"] = app_train['DAYS_BIRTH'] / 365\n",
    "print(pd.cut(app_train['YEARS_BIRTH'], bins = 10).value_counts().sort_index())\n",
    "print(pd.cut(app_train['YEARS_BIRTH'], bins = [20, 25, 30, 35, 40, 45, 50, 55, 60, 65, 70]).value_counts().sort_index())\n",
    "print(pd.qcut(app_train['YEARS_BIRTH'], 10).value_counts().sort_index())"
   ]
  },
  {
   "cell_type": "code",
   "execution_count": 29,
   "metadata": {},
   "outputs": [
    {
     "name": "stdout",
     "output_type": "stream",
     "text": [
      "(20.993, 25.836]    2516\n",
      "(25.836, 30.631]    5399\n",
      "(30.631, 35.426]    6102\n",
      "(35.426, 40.221]    6503\n",
      "(40.221, 45.016]    6308\n",
      "(45.016, 49.812]    5367\n",
      "(49.812, 54.607]    5305\n",
      "(54.607, 59.402]    4983\n",
      "(59.402, 64.197]    4311\n",
      "(64.197, 68.992]    1950\n",
      "Name: YEARS_BIRTH, dtype: int64\n",
      "(20, 25]    1949\n",
      "(25, 30]    5171\n",
      "(30, 35]    6388\n",
      "(35, 40]    6713\n",
      "(40, 45]    6592\n",
      "(45, 50]    5592\n",
      "(50, 55]    5590\n",
      "(55, 60]    5133\n",
      "(60, 65]    4313\n",
      "(65, 70]    1303\n",
      "Name: YEARS_BIRTH, dtype: int64\n",
      "(21.04, 28.192]     4876\n",
      "(28.192, 31.997]    4875\n",
      "(31.997, 35.899]    4874\n",
      "(35.899, 39.449]    4876\n",
      "(39.449, 43.084]    4871\n",
      "(43.084, 47.107]    4875\n",
      "(47.107, 51.66]     4876\n",
      "(51.66, 55.975]     4876\n",
      "(55.975, 60.764]    4875\n",
      "(60.764, 68.992]    4870\n",
      "Name: YEARS_BIRTH, dtype: int64\n"
     ]
    }
   ],
   "source": [
    "app_test[\"YEARS_BIRTH\"] = app_train['DAYS_BIRTH'] / 365\n",
    "print(pd.cut(app_test['YEARS_BIRTH'], bins = 10).value_counts().sort_index())\n",
    "print(pd.cut(app_test['YEARS_BIRTH'], bins = [20, 25, 30, 35, 40, 45, 50, 55, 60, 65, 70]).value_counts().sort_index())\n",
    "print(pd.qcut(app_test['YEARS_BIRTH'], 10).value_counts().sort_index())"
   ]
  },
  {
   "cell_type": "code",
   "execution_count": 42,
   "metadata": {},
   "outputs": [
    {
     "name": "stdout",
     "output_type": "stream",
     "text": [
      "(42799.5, 485100.0]       27524\n",
      "(485100.0, 925200.0]      15940\n",
      "(925200.0, 1365300.0]      3455\n",
      "(1365300.0, 1805400.0]     1304\n",
      "(1805400.0, 2245500.0]      521\n",
      "Name: AMT_CREDIT, dtype: int64\n",
      "AxesSubplot(0.125,0.125;0.775x0.755)\n"
     ]
    },
    {
     "data": {
      "image/png": "[encoded data removed]",
      "text/plain": [
       "<Figure size 432x288 with 1 Axes>"
      ]
     },
     "metadata": {
      "needs_background": "light"
     },
     "output_type": "display_data"
    }
   ],
   "source": [
    "A = pd.cut(app_test['AMT_CREDIT'], bins = 5).value_counts().sort_index()\n",
    "print(A)\n",
    "px = A.index\n",
    "py = A\n",
    "print(sns.barplot(px, py))\n"
   ]
  },
  {
   "cell_type": "code",
   "execution_count": 43,
   "metadata": {},
   "outputs": [
    {
     "name": "stdout",
     "output_type": "stream",
     "text": [
      "(44999.999, 225000.0]    9885\n",
      "(225000.0, 354469.5]     9620\n",
      "(354469.5, 509400.0]     9828\n",
      "(509400.0, 746280.0]     9947\n",
      "(746280.0, 2245500.0]    9464\n",
      "Name: AMT_CREDIT, dtype: int64\n",
      "AxesSubplot(0.125,0.125;0.775x0.755)\n"
     ]
    },
    {
     "data": {
      "image/png": "[encoded data removed]",
      "text/plain": [
       "<Figure size 432x288 with 1 Axes>"
      ]
     },
     "metadata": {
      "needs_background": "light"
     },
     "output_type": "display_data"
    }
   ],
   "source": [
    "A = pd.qcut(app_test['AMT_CREDIT'], 5).value_counts().sort_index()\n",
    "print(A)\n",
    "px = A.index\n",
    "py = A\n",
    "print(sns.barplot(px, py))"
   ]
  }
 ],
 "metadata": {
  "kernelspec": {
   "display_name": "Python 3",
   "language": "python",
   "name": "python3"
  },
  "language_info": {
   "codemirror_mode": {
    "name": "ipython",
    "version": 3
   },
   "file_extension": ".py",
   "mimetype": "text/x-python",
   "name": "python",
   "nbconvert_exporter": "python",
   "pygments_lexer": "ipython3",
   "version": "3.7.1"
  }
 },
 "nbformat": 4,
 "nbformat_minor": 2
}
